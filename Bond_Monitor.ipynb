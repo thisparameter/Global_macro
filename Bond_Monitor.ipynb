{
 "cells": [
  {
   "cell_type": "code",
   "execution_count": 1,
   "metadata": {
    "collapsed": true
   },
   "outputs": [],
   "source": [
    "import pandas as pd\n",
    "import numpy as np\n",
    "import sklearn as sk"
   ]
  },
  {
   "cell_type": "code",
   "execution_count": 104,
   "metadata": {
    "collapsed": false
   },
   "outputs": [],
   "source": [
    "def gather_data(filename, sheet):\n",
    "    df = pd.read_excel(filename,sheetname=sheet)\n",
    "    #drop columns where all the values are na\n",
    "    df = df.dropna(axis = 1, how = 'all')\n",
    "    #naming the columns properly\n",
    "    return df\n",
    "\n",
    "def process_headers(df):\n",
    "    df = df.copy()\n",
    "    curr_colnames = list(df.columns)\n",
    "    colnames =list(df.loc[0,:])\n",
    "    for i,col in enumerate(list(curr_colnames)):\n",
    "        if col.find(\"Unnamed\") != -1:\n",
    "            curr_colnames[i] = curr_colnames[i-1]\n",
    "            col = curr_colnames[i-1]\n",
    "        colnames[i]= str(col) + '__'+str(colnames[i]) \n",
    "    df.columns = colnames\n",
    "    df = df.loc[1:,:]\n",
    "    return df\n",
    "        \n",
    "def process_timeline(df):\n",
    "    #aligns the dataframe with single timeline\n",
    "    #break the dataframe into separate dataframes with regards to timelines\n",
    "    df_dict = {}\n",
    "    count_dates = [0 if x.lower().find('date')==-1 else 1 for x in list(df.columns)]\n",
    "    ct_df = 0\n",
    "    start = 0\n",
    "    start_index = 0\n",
    "    for i,dt in enumerate(count_dates):\n",
    "        if dt == 1 and start ==0:\n",
    "            df_dict[ct_df] = pd.DataFrame()\n",
    "            start_index = i\n",
    "            start = 1\n",
    "            print start_index\n",
    "        elif (dt ==1 and start == 1):\n",
    "            df_dict[ct_df] = df.iloc[:,start_index:i]\n",
    "            ct_df = ct_df + 1\n",
    "            start_index = i\n",
    "            start = 0\n",
    "            print start_index, start\n",
    "        elif i == len(count_dates) - 1 and start == 1:\n",
    "            df_dict[ct_df] = df.iloc[:,start_index:]\n",
    "            start = 0\n",
    "    print df_dict.keys(), sum(count_dates)\n",
    "    for key in sorted(list(df_dict.keys())):\n",
    "        temp_df = df_dict[key].copy()\n",
    "        temp_df = temp_df.loc[temp_df.iloc[:,0].dropna().index,:]\n",
    "        temp_df.index = temp_df.iloc[:,0]\n",
    "        temp_df = temp_df.iloc[:,1:]\n",
    "        df_dict[key] = temp_df\n",
    "        \n",
    "    #merging the dataframes together\n",
    "    total_df = np.nan\n",
    "    for i,key in enumerate(sorted(list(df_dict.keys()))):\n",
    "        if i == 0:\n",
    "            total_df =df_dict[key]\n",
    "        else:\n",
    "            #print key, df_dict[key].head()\n",
    "            total_df = total_df.merge(df_dict[key],left_index = True, right_index = True, how = 'outer')\n",
    "    return total_df\n",
    "    pass\n"
   ]
  },
  {
   "cell_type": "code",
   "execution_count": 83,
   "metadata": {
    "collapsed": false
   },
   "outputs": [],
   "source": [
    "def fly_calc(df, securities):\n",
    "    #calculates the flies on 1-2-1 basis and gets the time-series of the fly\n",
    "    pass\n",
    "    return -1*np.array(df[securities[0]]) + 2*np.array(df[securities[1]]) + -1*np.array(df[securities[2]])\n",
    "\n",
    "def fly_pca_calc(df, securities):\n",
    "    temp_df = df[securities].dropna()\n",
    "    X1 = np.array(temp_df[securities[0]])\n",
    "    X2 = np.array(temp_df[securities[1]])\n",
    "    X3 = np.array(temp_df[securities[2]])\n",
    "    X = np.array(temp_df[securities])\n",
    "    pca_model = PCA()\n",
    "    pca_model.fit(X)\n",
    "    weights = pca_model.components_[:,2]\n",
    "    #normalize the weights\n",
    "    weights = weights/weights[1]*2.\n",
    "    #calc the fly\n",
    "    return weights[0]*df[securities[0]]+weights[1]*df[securities[1]]+weights[2]*df[securities[2]]\n",
    "    pass\n",
    "\n",
    "#mean reversion equation - dxt = a(b-xt-1) + error\n",
    "import sklearn as sk\n",
    "from sklearn import linear_model\n",
    "from sklearn.decomposition import PCA\n",
    "\n",
    "def mean_reversion(flies):\n",
    "    model_gaussian = linear_model.LinearRegression()\n",
    "    dt_flies = flies - flies.shift(1)\n",
    "    X = np.array(flies.shift(1).dropna()).reshape((-1,1))\n",
    "    Y = np.array(dt_flies.dropna()).reshape((-1,1))\n",
    "    model_gaussian.fit(X = X, y=Y)\n",
    "    alpha = model_gaussian.coef_[0]*-1.\n",
    "    theta = model_gaussian.intercept_/alpha\n",
    "    var = model_gaussian.residues_\n",
    "    return list(alpha)[0], list(theta)[0], list(var)[0]\n",
    "    pass\n",
    "    "
   ]
  },
  {
   "cell_type": "code",
   "execution_count": 3,
   "metadata": {
    "collapsed": false
   },
   "outputs": [],
   "source": [
    "filename = r'/Users/Abhishek/Desktop/Projects/Bond-Swap-Fly-monitor/Datafin.xlsx'\n",
    "test_frame = pd.read_excel(filename, sheet = 'Sheet6')"
   ]
  },
  {
   "cell_type": "code",
   "execution_count": 4,
   "metadata": {
    "collapsed": false,
    "scrolled": false
   },
   "outputs": [],
   "source": [
    "test_frame = gather_data(filename,'Sheet6')\n",
    "ret_frame = process_headers(test_frame)"
   ]
  },
  {
   "cell_type": "code",
   "execution_count": 105,
   "metadata": {
    "collapsed": false
   },
   "outputs": [
    {
     "name": "stdout",
     "output_type": "stream",
     "text": [
      "[0, 1, 2, 3] 8\n"
     ]
    }
   ],
   "source": [
    "ret_df = process_timeline(ret_frame)"
   ]
  },
  {
   "cell_type": "code",
   "execution_count": 84,
   "metadata": {
    "collapsed": false,
    "scrolled": false
   },
   "outputs": [
    {
     "name": "stderr",
     "output_type": "stream",
     "text": [
      "/Users/Abhishek/anaconda/lib/python2.7/site-packages/sklearn/utils/deprecation.py:70: DeprecationWarning: Function residues_ is deprecated; ``residues_`` is deprecated and will be removed in 0.19\n",
      "  warnings.warn(msg, category=DeprecationWarning)\n"
     ]
    },
    {
     "data": {
      "text/plain": [
       "(0.003603625287131468, -0.76265435706818696, 0.36252122422544752)"
      ]
     },
     "execution_count": 84,
     "metadata": {},
     "output_type": "execute_result"
    }
   ],
   "source": [
    "mean_reversion(ret_df.iloc[:,0].dropna())"
   ]
  },
  {
   "cell_type": "code",
   "execution_count": 100,
   "metadata": {
    "collapsed": false
   },
   "outputs": [
    {
     "data": {
      "text/plain": [
       "(Index([u'OBL 1 02/22/19 168 Govt__YLD_YTM_MID',\n",
       "        u'OBL 1 02/22/19 168 Govt__ASSET_SWAP_SPD_MID',\n",
       "        u'OBL 1 02/22/19 168 Govt__Z_SPRD_MID',\n",
       "        u'DBR 2 01/04/2022 Govt__YLD_YTM_MID',\n",
       "        u'DBR 2 01/04/2022 Govt__ASSET_SWAP_SPD_MID',\n",
       "        u'DBR 2 01/04/2022 Govt__Z_SPRD_MID',\n",
       "        u'DBR 0.5 02/15/26 Govt__YLD_YTM_MID',\n",
       "        u'DBR 0.5 02/15/26 Govt__ASSET_SWAP_SPD_MID',\n",
       "        u'DBR 0.5 02/15/26 Govt__Z_SPRD_MID',\n",
       "        u'DBR 4 01/04/2037 Govt__YLD_YTM_MID',\n",
       "        u'DBR 4 01/04/2037 Govt__ASSET_SWAP_SPD_MID',\n",
       "        u'DBR 4 01/04/2037 Govt__Z_SPRD_MID'],\n",
       "       dtype='object'), Index([u'OBL 1 02/22/19 168 Govt__Date',\n",
       "        u'OBL 1 02/22/19 168 Govt__YLD_YTM_MID',\n",
       "        u'OBL 1 02/22/19 168 Govt__ASSET_SWAP_SPD_MID',\n",
       "        u'OBL 1 02/22/19 168 Govt__Z_SPRD_MID',\n",
       "        u'DBR 3.25 01/04/20 09 Govt__Date',\n",
       "        u'DBR 3.25 01/04/20 09 Govt__YLD_YTM_MID',\n",
       "        u'DBR 3.25 01/04/20 09 Govt__ASSET_SWAP_SPD_MID',\n",
       "        u'DBR 3.25 01/04/20 09 Govt__Z_SPRD_MID',\n",
       "        u'DBR 2 01/04/2022 Govt__Date', u'DBR 2 01/04/2022 Govt__YLD_YTM_MID',\n",
       "        u'DBR 2 01/04/2022 Govt__ASSET_SWAP_SPD_MID',\n",
       "        u'DBR 2 01/04/2022 Govt__Z_SPRD_MID', u'DBR 1.75 02/15/24 Govt__Date',\n",
       "        u'DBR 1.75 02/15/24 Govt__YLD_YTM_MID',\n",
       "        u'DBR 1.75 02/15/24 Govt__ASSET_SWAP_SPD_MID',\n",
       "        u'DBR 1.75 02/15/24 Govt__Z_SPRD_MID', u'DBR 0.5 02/15/26 Govt__Date',\n",
       "        u'DBR 0.5 02/15/26 Govt__YLD_YTM_MID',\n",
       "        u'DBR 0.5 02/15/26 Govt__ASSET_SWAP_SPD_MID',\n",
       "        u'DBR 0.5 02/15/26 Govt__Z_SPRD_MID', u'DBR 4.75 07/04/2034 Govt__Date',\n",
       "        u'DBR 4.75 07/04/2034 Govt__YLD_YTM_MID',\n",
       "        u'DBR 4.75 07/04/2034 Govt__ASSET_SWAP_SPD_MID',\n",
       "        u'DBR 4.75 07/04/2034 Govt__Z_SPRD_MID', u'DBR 4 01/04/2037 Govt__Date',\n",
       "        u'DBR 4 01/04/2037 Govt__YLD_YTM_MID',\n",
       "        u'DBR 4 01/04/2037 Govt__ASSET_SWAP_SPD_MID',\n",
       "        u'DBR 4 01/04/2037 Govt__Z_SPRD_MID', u'DBR 2.5 08/15/2046 Govt__Date',\n",
       "        u'DBR 2.5 08/15/2046 Govt__YLD_YTM_MID',\n",
       "        u'DBR 2.5 08/15/2046 Govt__ASSET_SWAP_SPD_MID',\n",
       "        u'DBR 2.5 08/15/2046 Govt__Z_SPRD_MID'],\n",
       "       dtype='object'))"
      ]
     },
     "execution_count": 100,
     "metadata": {},
     "output_type": "execute_result"
    }
   ],
   "source": [
    "ret_df.columns, ret_frame.columns"
   ]
  },
  {
   "cell_type": "code",
   "execution_count": null,
   "metadata": {
    "collapsed": true
   },
   "outputs": [],
   "source": []
  }
 ],
 "metadata": {
  "kernelspec": {
   "display_name": "Python 2",
   "language": "python",
   "name": "python2"
  },
  "language_info": {
   "codemirror_mode": {
    "name": "ipython",
    "version": 2
   },
   "file_extension": ".py",
   "mimetype": "text/x-python",
   "name": "python",
   "nbconvert_exporter": "python",
   "pygments_lexer": "ipython2",
   "version": "2.7.13"
  }
 },
 "nbformat": 4,
 "nbformat_minor": 2
}
